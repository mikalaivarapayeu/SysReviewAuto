{
 "cells": [
  {
   "cell_type": "code",
   "execution_count": 1,
   "metadata": {},
   "outputs": [],
   "source": [
    "from tensorflow.keras.layers import Input, SimpleRNN, Dense, Flatten,TimeDistributed,LSTM,Masking,Bidirectional,GlobalMaxPool1D\n",
    "from tensorflow.keras.models import Model, Sequential\n",
    "from tensorflow.keras.optimizers import SGD, Adam\n",
    "import numpy as np\n",
    "#import pandas as pd\n",
    "import matplotlib.pyplot as plt\n",
    "import tensorflow as tf\n",
    "%matplotlib inline\n",
    "import csv\n",
    "from sklearn.model_selection import train_test_split\n",
    "import scispacy\n",
    "import spacy\n",
    "nlp = spacy.load(\"en_core_sci_md\", disable = ['parser','tagger','ner'])"
   ]
  },
  {
   "cell_type": "code",
   "execution_count": 3,
   "metadata": {
    "scrolled": true
   },
   "outputs": [],
   "source": [
    "file_name = 'C:/Users/Helen/Documents/python_crap/text_files/NounPhrases.tsv'\n",
    "n = 2\n",
    "tuple_sent = []\n",
    "with open(file_name, newline='', encoding=\"ISO-8859-1\")as f:\n",
    "    reader = csv.reader(f, delimiter = '\\t')\n",
    "    for line in reader:\n",
    "        try:\n",
    "            senten = ([tuple(line[i:i + n]) for i in range(0, len(line), n)])\n",
    "            senten = [(item[0], int(item[1])) for item in senten]\n",
    "            tuple_sent.append(senten)\n",
    "        except Exception:\n",
    "             print(line)"
   ]
  },
  {
   "cell_type": "code",
   "execution_count": null,
   "metadata": {},
   "outputs": [],
   "source": [
    "#print(tuple_sent)"
   ]
  },
  {
   "cell_type": "code",
   "execution_count": 4,
   "metadata": {},
   "outputs": [],
   "source": [
    "sents = []\n",
    "sent = []\n",
    "for s in tuple_sent:\n",
    "    for token in s:\n",
    "        if token[1] == 9:\n",
    "            new_token = (token[0],4)\n",
    "        elif token[1] == 999:\n",
    "            new_token = (token[0],9)    \n",
    "        else:\n",
    "            new_token = (token[0],token[1])\n",
    "        sent.append(new_token)\n",
    "    sents.append(sent)\n",
    "    sent = []"
   ]
  },
  {
   "cell_type": "code",
   "execution_count": null,
   "metadata": {},
   "outputs": [],
   "source": [
    "print(sents)"
   ]
  },
  {
   "cell_type": "code",
   "execution_count": null,
   "metadata": {},
   "outputs": [],
   "source": [
    "# def remove_article(sent):\n",
    "#     no_art_sent= []\n",
    "#     change_class = False\n",
    "#     for item in sent:\n",
    "#         if item[0]  in ['a','the','A','The','an','An']:\n",
    "#             if item[1] == 1:\n",
    "#                 change_class = True\n",
    "#             else:\n",
    "#                 change_class = False\n",
    "#         else:\n",
    "#             if change_class:\n",
    "#                 item = (item[0],1)\n",
    "#                 no_art_sent.append(item)\n",
    "#             else:\n",
    "#                 no_art_sent.append(item)\n",
    "#     return no_art_sent\n",
    "\n",
    "\n",
    "# no_art_set = []\n",
    "# for i in range(0,len(tuple_sent)):\n",
    "#     sent = remove_article(tuple_sent[i])\n",
    "#     no_art_set.append(sent)"
   ]
  },
  {
   "cell_type": "code",
   "execution_count": 5,
   "metadata": {},
   "outputs": [],
   "source": [
    "X_set = []\n",
    "y_set = []\n",
    "X_item = []\n",
    "y_item = []\n",
    "for sentences in sents:\n",
    "    for tups in sentences:\n",
    "        X_item.append(tups[0])\n",
    "        y_item.append(tups[1])\n",
    "    X_set.append(X_item)\n",
    "    y_set.append(y_item)\n",
    "    X_item = []\n",
    "    y_item = []"
   ]
  },
  {
   "cell_type": "code",
   "execution_count": null,
   "metadata": {},
   "outputs": [],
   "source": [
    "X_train, X_test, y_train, y_test = train_test_split(X_set, y_set, test_size=0.20)"
   ]
  },
  {
   "cell_type": "code",
   "execution_count": null,
   "metadata": {},
   "outputs": [],
   "source": [
    "# print(X_train[50])\n",
    "# print(y_train[50])"
   ]
  },
  {
   "cell_type": "code",
   "execution_count": 6,
   "metadata": {},
   "outputs": [],
   "source": [
    "def find_max_list(lst):\n",
    "    list_len = [len(i) for i in lst]\n",
    "    return(max(list_len))\n",
    "\n",
    "max_len = find_max_list(X_set)"
   ]
  },
  {
   "cell_type": "code",
   "execution_count": 7,
   "metadata": {},
   "outputs": [
    {
     "name": "stdout",
     "output_type": "stream",
     "text": [
      "136\n"
     ]
    }
   ],
   "source": [
    "print(max_len)"
   ]
  },
  {
   "cell_type": "code",
   "execution_count": 8,
   "metadata": {},
   "outputs": [
    {
     "name": "stdout",
     "output_type": "stream",
     "text": [
      "(621, 250, 200)\n"
     ]
    }
   ],
   "source": [
    "w_vecs = np.zeros((len(X_set),250,200))\n",
    "for i in range(0,len(X_set)):\n",
    "    for j in range(0,len(X_set[i])):\n",
    "        w_vecs[i,j] = nlp(X_set[i][j]).vector\n",
    "print(w_vecs.shape)"
   ]
  },
  {
   "cell_type": "code",
   "execution_count": null,
   "metadata": {},
   "outputs": [],
   "source": [
    "# y_mset = []\n",
    "# y_item\n",
    "# for i in range(len(y_set)):\n",
    "#     for j in range(len(y_set[i])):\n",
    "#         if y_set[i][j]==0:\n",
    "#             item = 1\n",
    "#             y_item.append(item)\n",
    "#         elif y_set[i][j]==1:\n",
    "#             item = 2\n",
    "#             y_item.append(item)\n",
    "#         else:\n",
    "#             item = 3\n",
    "#             y_item.append(item)\n",
    "#     y_mset.append(y_item)\n",
    "#     y_item = []  "
   ]
  },
  {
   "cell_type": "code",
   "execution_count": 9,
   "metadata": {},
   "outputs": [],
   "source": [
    "y3 = np.array(y_set)\n",
    "y3 = tf.keras.preprocessing.sequence.pad_sequences(y3, padding=\"post\",value= 0.0, maxlen = 250)\n",
    "#y_final = np.zeros((len(X_set),max_len,3))\n",
    "#for i in range(len(y3)):\n",
    "y3= tf.keras.utils.to_categorical(y3, num_classes=10, dtype='float32')\n",
    "#print(y3.shape)"
   ]
  },
  {
   "cell_type": "code",
   "execution_count": null,
   "metadata": {},
   "outputs": [],
   "source": [
    "# print(w_vecs[200])\n",
    "# print(y3[200])\n",
    "#print(y3.shape)\n",
    "# #print(y_final.shape)"
   ]
  },
  {
   "cell_type": "code",
   "execution_count": null,
   "metadata": {},
   "outputs": [],
   "source": [
    "# y1 = np.array(y_final)\n",
    "# y1 = tf.keras.preprocessing.sequence.pad_sequences(y1, padding=\"post\")\n",
    "# y1 = tf.keras.utils.to_categorical(y_final, num_classes=4, dtype='float32')\n",
    "# print(y1.shape)"
   ]
  },
  {
   "cell_type": "code",
   "execution_count": null,
   "metadata": {},
   "outputs": [],
   "source": [
    "# # define LSTM configuration\n",
    "# n_neurons = 27\n",
    "# n_batch = 3\n",
    "# n_epoch = 100"
   ]
  },
  {
   "cell_type": "code",
   "execution_count": 10,
   "metadata": {
    "scrolled": true
   },
   "outputs": [
    {
     "name": "stdout",
     "output_type": "stream",
     "text": [
      "Model: \"sequential\"\n",
      "_________________________________________________________________\n",
      "Layer (type)                 Output Shape              Param #   \n",
      "=================================================================\n",
      "masking (Masking)            (None, 250, 200)          0         \n",
      "_________________________________________________________________\n",
      "bidirectional (Bidirectional (None, 250, 250)          902000    \n",
      "_________________________________________________________________\n",
      "time_distributed (TimeDistri (None, 250, 10)           2510      \n",
      "=================================================================\n",
      "Total params: 904,510\n",
      "Trainable params: 904,510\n",
      "Non-trainable params: 0\n",
      "_________________________________________________________________\n",
      "None\n"
     ]
    }
   ],
   "source": [
    "###### create LSTM\n",
    "model = Sequential()\n",
    "model.add(Masking(mask_value = 0.,input_shape=(250, 200)))\n",
    "#model.add(Bidirectional(LSTM(134, return_sequences=True),merge_mode='concat'))\n",
    "model.add(Bidirectional(LSTM(250, return_sequences=True),merge_mode='mul'))\n",
    "model.add(TimeDistributed(Dense(10, activation = 'softmax')))\n",
    "#model.add(TimeDistributed(Dense(16, activation = 'relu')))\n",
    "#model.add(TimeDistributed(Dense(3, activation = 'softmax')))\n",
    "#model = tf.reduce_max(model, axis=[2], keepdims=True)\n",
    "#model.add(GlobalMaxPool1D())\n",
    "#model.add(Dense(28, activation='relu', kernel_initializer='he_uniform'))\n",
    "#model.add(Dense(28, activation='relu', kernel_initializer='he_uniform'))\n",
    "#model.add(Dense(256, activation='relu', kernel_initializer='he_uniform'))\n",
    "#model.add(Dense(4, activation = 'softmax'))\n",
    "#model.add(TimeDistributed(Dense(4, activation = 'softmax')))\n",
    "model.compile(loss='categorical_crossentropy', optimizer=Adam(lr = 0.01), metrics = ['accuracy'])\n",
    "print(model.summary())"
   ]
  },
  {
   "cell_type": "code",
   "execution_count": 11,
   "metadata": {},
   "outputs": [
    {
     "name": "stdout",
     "output_type": "stream",
     "text": [
      "Epoch 1/100\n",
      "16/16 [==============================] - 39s 2s/step - loss: 0.1556 - accuracy: 0.5613 - val_loss: 0.1231 - val_accuracy: 0.6722\n",
      "Epoch 2/100\n",
      "16/16 [==============================] - 35s 2s/step - loss: 0.1098 - accuracy: 0.6660 - val_loss: 0.0951 - val_accuracy: 0.7215\n",
      "Epoch 3/100\n",
      "16/16 [==============================] - 35s 2s/step - loss: 0.0858 - accuracy: 0.7164 - val_loss: 0.0816 - val_accuracy: 0.7559\n",
      "Epoch 4/100\n",
      "16/16 [==============================] - 36s 2s/step - loss: 0.0707 - accuracy: 0.7622 - val_loss: 0.0738 - val_accuracy: 0.7701\n",
      "Epoch 5/100\n",
      "16/16 [==============================] - 37s 2s/step - loss: 0.0600 - accuracy: 0.7971 - val_loss: 0.0643 - val_accuracy: 0.7969\n",
      "Epoch 6/100\n",
      "16/16 [==============================] - 39s 2s/step - loss: 0.0531 - accuracy: 0.8156 - val_loss: 0.0618 - val_accuracy: 0.8094\n",
      "Epoch 7/100\n",
      "16/16 [==============================] - 39s 2s/step - loss: 0.0476 - accuracy: 0.8332 - val_loss: 0.0623 - val_accuracy: 0.8117\n",
      "Epoch 8/100\n",
      "16/16 [==============================] - 38s 2s/step - loss: 0.0462 - accuracy: 0.8422 - val_loss: 0.0580 - val_accuracy: 0.8203\n",
      "Epoch 9/100\n",
      "16/16 [==============================] - 38s 2s/step - loss: 0.0397 - accuracy: 0.8637 - val_loss: 0.0592 - val_accuracy: 0.8261\n",
      "Epoch 10/100\n",
      "16/16 [==============================] - 37s 2s/step - loss: 0.0362 - accuracy: 0.8766 - val_loss: 0.0594 - val_accuracy: 0.8273\n",
      "Epoch 11/100\n",
      "16/16 [==============================] - 32s 2s/step - loss: 0.0324 - accuracy: 0.8917 - val_loss: 0.0601 - val_accuracy: 0.8250\n",
      "Epoch 12/100\n",
      "16/16 [==============================] - 35s 2s/step - loss: 0.0290 - accuracy: 0.9044 - val_loss: 0.0588 - val_accuracy: 0.8247\n",
      "Epoch 13/100\n",
      "16/16 [==============================] - 32s 2s/step - loss: 0.0252 - accuracy: 0.9208 - val_loss: 0.0705 - val_accuracy: 0.7912\n",
      "Epoch 14/100\n",
      "16/16 [==============================] - 33s 2s/step - loss: 0.0267 - accuracy: 0.9080 - val_loss: 0.0667 - val_accuracy: 0.8016\n",
      "Epoch 15/100\n",
      "16/16 [==============================] - 33s 2s/step - loss: 0.0212 - accuracy: 0.9347 - val_loss: 0.0634 - val_accuracy: 0.8209\n",
      "Epoch 16/100\n",
      "16/16 [==============================] - 33s 2s/step - loss: 0.0175 - accuracy: 0.9496 - val_loss: 0.0659 - val_accuracy: 0.8154\n",
      "Epoch 17/100\n",
      "16/16 [==============================] - 33s 2s/step - loss: 0.0143 - accuracy: 0.9605 - val_loss: 0.0687 - val_accuracy: 0.8169\n",
      "Epoch 18/100\n",
      "16/16 [==============================] - 37s 2s/step - loss: 0.0118 - accuracy: 0.9695 - val_loss: 0.0718 - val_accuracy: 0.8174\n",
      "Epoch 19/100\n",
      "16/16 [==============================] - 38s 2s/step - loss: 0.0095 - accuracy: 0.9783 - val_loss: 0.0794 - val_accuracy: 0.8016\n",
      "Epoch 20/100\n",
      "16/16 [==============================] - 37s 2s/step - loss: 0.0079 - accuracy: 0.9826 - val_loss: 0.0776 - val_accuracy: 0.8079\n",
      "Epoch 21/100\n",
      "16/16 [==============================] - 33s 2s/step - loss: 0.0063 - accuracy: 0.9883 - val_loss: 0.0807 - val_accuracy: 0.8172\n",
      "Epoch 22/100\n",
      "16/16 [==============================] - 33s 2s/step - loss: 0.0054 - accuracy: 0.9912 - val_loss: 0.0821 - val_accuracy: 0.8192\n",
      "Epoch 23/100\n",
      "16/16 [==============================] - 32s 2s/step - loss: 0.0044 - accuracy: 0.9931 - val_loss: 0.0870 - val_accuracy: 0.8039\n",
      "Epoch 24/100\n",
      "16/16 [==============================] - 33s 2s/step - loss: 0.0035 - accuracy: 0.9951 - val_loss: 0.0878 - val_accuracy: 0.8134\n",
      "Epoch 25/100\n",
      "16/16 [==============================] - 33s 2s/step - loss: 0.0029 - accuracy: 0.9967 - val_loss: 0.0923 - val_accuracy: 0.8013\n",
      "Epoch 26/100\n",
      "16/16 [==============================] - 32s 2s/step - loss: 0.0023 - accuracy: 0.9979 - val_loss: 0.0934 - val_accuracy: 0.8085\n",
      "Epoch 27/100\n",
      "16/16 [==============================] - 33s 2s/step - loss: 0.0020 - accuracy: 0.9985 - val_loss: 0.0983 - val_accuracy: 0.8030\n",
      "Epoch 28/100\n",
      "16/16 [==============================] - 33s 2s/step - loss: 0.0016 - accuracy: 0.9987 - val_loss: 0.0985 - val_accuracy: 0.8079\n",
      "Epoch 29/100\n",
      "16/16 [==============================] - 32s 2s/step - loss: 0.0014 - accuracy: 0.9990 - val_loss: 0.1020 - val_accuracy: 0.8053\n",
      "Epoch 30/100\n",
      "16/16 [==============================] - 32s 2s/step - loss: 0.0012 - accuracy: 0.9990 - val_loss: 0.1038 - val_accuracy: 0.8039\n",
      "Epoch 31/100\n",
      "16/16 [==============================] - 32s 2s/step - loss: 0.0010 - accuracy: 0.9994 - val_loss: 0.1034 - val_accuracy: 0.8085\n",
      "Epoch 32/100\n",
      "16/16 [==============================] - 33s 2s/step - loss: 8.6913e-04 - accuracy: 0.9994 - val_loss: 0.1057 - val_accuracy: 0.8036\n",
      "Epoch 33/100\n",
      "16/16 [==============================] - 33s 2s/step - loss: 7.5675e-04 - accuracy: 0.9994 - val_loss: 0.1067 - val_accuracy: 0.8059\n",
      "Epoch 34/100\n",
      "16/16 [==============================] - 32s 2s/step - loss: 6.9546e-04 - accuracy: 0.9995 - val_loss: 0.1104 - val_accuracy: 0.8007\n",
      "Epoch 35/100\n",
      "16/16 [==============================] - 33s 2s/step - loss: 6.6585e-04 - accuracy: 0.9995 - val_loss: 0.1105 - val_accuracy: 0.8021\n",
      "Epoch 36/100\n",
      "16/16 [==============================] - 32s 2s/step - loss: 6.1674e-04 - accuracy: 0.9994 - val_loss: 0.1118 - val_accuracy: 0.8036\n",
      "Epoch 37/100\n",
      "16/16 [==============================] - 32s 2s/step - loss: 5.1843e-04 - accuracy: 0.9996 - val_loss: 0.1135 - val_accuracy: 0.7995\n",
      "Epoch 38/100\n",
      "16/16 [==============================] - 32s 2s/step - loss: 4.6929e-04 - accuracy: 0.9995 - val_loss: 0.1155 - val_accuracy: 0.7975\n",
      "Epoch 39/100\n",
      "16/16 [==============================] - 32s 2s/step - loss: 4.1825e-04 - accuracy: 0.9998 - val_loss: 0.1168 - val_accuracy: 0.8013\n",
      "Epoch 40/100\n",
      "16/16 [==============================] - 32s 2s/step - loss: 3.8681e-04 - accuracy: 0.9998 - val_loss: 0.1173 - val_accuracy: 0.7998\n",
      "Epoch 41/100\n",
      "16/16 [==============================] - 32s 2s/step - loss: 3.5460e-04 - accuracy: 0.9998 - val_loss: 0.1191 - val_accuracy: 0.7984\n",
      "Epoch 42/100\n",
      "16/16 [==============================] - 32s 2s/step - loss: 3.3238e-04 - accuracy: 0.9998 - val_loss: 0.1199 - val_accuracy: 0.7995\n",
      "Epoch 43/100\n",
      "16/16 [==============================] - 32s 2s/step - loss: 3.0623e-04 - accuracy: 0.9998 - val_loss: 0.1211 - val_accuracy: 0.7995\n",
      "Epoch 44/100\n",
      "16/16 [==============================] - 32s 2s/step - loss: 2.9112e-04 - accuracy: 0.9998 - val_loss: 0.1224 - val_accuracy: 0.7990\n",
      "Epoch 45/100\n",
      "16/16 [==============================] - 32s 2s/step - loss: 2.7318e-04 - accuracy: 0.9998 - val_loss: 0.1230 - val_accuracy: 0.7990\n",
      "Epoch 46/100\n",
      "16/16 [==============================] - 32s 2s/step - loss: 2.5373e-04 - accuracy: 0.9998 - val_loss: 0.1243 - val_accuracy: 0.7984\n",
      "Epoch 47/100\n",
      "16/16 [==============================] - 32s 2s/step - loss: 2.4278e-04 - accuracy: 0.9998 - val_loss: 0.1246 - val_accuracy: 0.7992\n",
      "Epoch 48/100\n",
      "16/16 [==============================] - 32s 2s/step - loss: 2.2345e-04 - accuracy: 0.9998 - val_loss: 0.1257 - val_accuracy: 0.7987\n",
      "Epoch 49/100\n",
      "16/16 [==============================] - 32s 2s/step - loss: 2.1068e-04 - accuracy: 0.9998 - val_loss: 0.1268 - val_accuracy: 0.8001\n",
      "Epoch 50/100\n",
      "16/16 [==============================] - 32s 2s/step - loss: 2.0229e-04 - accuracy: 0.9998 - val_loss: 0.1275 - val_accuracy: 0.7978\n",
      "Epoch 51/100\n",
      "16/16 [==============================] - 32s 2s/step - loss: 1.8995e-04 - accuracy: 0.9998 - val_loss: 0.1284 - val_accuracy: 0.7972\n",
      "Epoch 52/100\n",
      "16/16 [==============================] - 32s 2s/step - loss: 1.7159e-04 - accuracy: 0.9998 - val_loss: 0.1292 - val_accuracy: 0.7984\n",
      "Epoch 53/100\n",
      "16/16 [==============================] - 32s 2s/step - loss: 1.6144e-04 - accuracy: 0.9999 - val_loss: 0.1299 - val_accuracy: 0.7984\n",
      "Epoch 54/100\n",
      "16/16 [==============================] - 32s 2s/step - loss: 1.4849e-04 - accuracy: 0.9998 - val_loss: 0.1305 - val_accuracy: 0.7992\n",
      "Epoch 55/100\n",
      "16/16 [==============================] - 32s 2s/step - loss: 1.3711e-04 - accuracy: 0.9999 - val_loss: 0.1315 - val_accuracy: 0.7984\n",
      "Epoch 56/100\n",
      "16/16 [==============================] - 32s 2s/step - loss: 1.2928e-04 - accuracy: 1.0000 - val_loss: 0.1323 - val_accuracy: 0.7981\n",
      "Epoch 57/100\n",
      "16/16 [==============================] - 32s 2s/step - loss: 1.2195e-04 - accuracy: 1.0000 - val_loss: 0.1326 - val_accuracy: 0.7978\n",
      "Epoch 58/100\n"
     ]
    },
    {
     "name": "stdout",
     "output_type": "stream",
     "text": [
      "16/16 [==============================] - 32s 2s/step - loss: 1.1581e-04 - accuracy: 0.9998 - val_loss: 0.1330 - val_accuracy: 0.7998\n",
      "Epoch 59/100\n",
      "16/16 [==============================] - 32s 2s/step - loss: 1.1140e-04 - accuracy: 1.0000 - val_loss: 0.1339 - val_accuracy: 0.7978\n",
      "Epoch 60/100\n",
      "16/16 [==============================] - 32s 2s/step - loss: 1.0388e-04 - accuracy: 1.0000 - val_loss: 0.1348 - val_accuracy: 0.7972\n",
      "Epoch 61/100\n",
      "16/16 [==============================] - 32s 2s/step - loss: 9.8491e-05 - accuracy: 1.0000 - val_loss: 0.1343 - val_accuracy: 0.7975\n",
      "Epoch 62/100\n",
      "16/16 [==============================] - 32s 2s/step - loss: 9.2833e-05 - accuracy: 1.0000 - val_loss: 0.1357 - val_accuracy: 0.7969\n",
      "Epoch 63/100\n",
      "16/16 [==============================] - 32s 2s/step - loss: 8.7971e-05 - accuracy: 1.0000 - val_loss: 0.1360 - val_accuracy: 0.7990\n",
      "Epoch 64/100\n",
      "16/16 [==============================] - 32s 2s/step - loss: 8.2967e-05 - accuracy: 1.0000 - val_loss: 0.1373 - val_accuracy: 0.7978\n",
      "Epoch 65/100\n",
      "16/16 [==============================] - 32s 2s/step - loss: 7.8964e-05 - accuracy: 1.0000 - val_loss: 0.1378 - val_accuracy: 0.7978\n",
      "Epoch 66/100\n",
      "16/16 [==============================] - 32s 2s/step - loss: 7.5045e-05 - accuracy: 1.0000 - val_loss: 0.1381 - val_accuracy: 0.7972\n",
      "Epoch 67/100\n",
      "16/16 [==============================] - 32s 2s/step - loss: 7.2086e-05 - accuracy: 1.0000 - val_loss: 0.1383 - val_accuracy: 0.7975\n",
      "Epoch 68/100\n",
      "16/16 [==============================] - 32s 2s/step - loss: 6.8542e-05 - accuracy: 1.0000 - val_loss: 0.1391 - val_accuracy: 0.7972\n",
      "Epoch 69/100\n",
      "16/16 [==============================] - 32s 2s/step - loss: 6.5754e-05 - accuracy: 1.0000 - val_loss: 0.1398 - val_accuracy: 0.7981\n",
      "Epoch 70/100\n",
      "16/16 [==============================] - 32s 2s/step - loss: 6.3427e-05 - accuracy: 1.0000 - val_loss: 0.1400 - val_accuracy: 0.7975\n",
      "Epoch 71/100\n",
      "16/16 [==============================] - 32s 2s/step - loss: 6.1066e-05 - accuracy: 1.0000 - val_loss: 0.1406 - val_accuracy: 0.7972\n",
      "Epoch 72/100\n",
      "16/16 [==============================] - 32s 2s/step - loss: 5.8419e-05 - accuracy: 1.0000 - val_loss: 0.1416 - val_accuracy: 0.7961\n",
      "Epoch 73/100\n",
      "16/16 [==============================] - 32s 2s/step - loss: 5.6741e-05 - accuracy: 1.0000 - val_loss: 0.1416 - val_accuracy: 0.7987\n",
      "Epoch 74/100\n",
      "16/16 [==============================] - 32s 2s/step - loss: 5.4502e-05 - accuracy: 1.0000 - val_loss: 0.1422 - val_accuracy: 0.7972\n",
      "Epoch 75/100\n",
      "16/16 [==============================] - 32s 2s/step - loss: 5.2342e-05 - accuracy: 1.0000 - val_loss: 0.1421 - val_accuracy: 0.7978\n",
      "Epoch 76/100\n",
      "16/16 [==============================] - 32s 2s/step - loss: 5.0499e-05 - accuracy: 1.0000 - val_loss: 0.1430 - val_accuracy: 0.7969\n",
      "Epoch 77/100\n",
      "16/16 [==============================] - 32s 2s/step - loss: 4.8745e-05 - accuracy: 1.0000 - val_loss: 0.1428 - val_accuracy: 0.7966\n",
      "Epoch 78/100\n",
      "16/16 [==============================] - 32s 2s/step - loss: 4.6898e-05 - accuracy: 1.0000 - val_loss: 0.1438 - val_accuracy: 0.7964\n",
      "Epoch 79/100\n",
      "16/16 [==============================] - 32s 2s/step - loss: 4.5351e-05 - accuracy: 1.0000 - val_loss: 0.1440 - val_accuracy: 0.7955\n",
      "Epoch 80/100\n",
      "16/16 [==============================] - 32s 2s/step - loss: 4.4296e-05 - accuracy: 1.0000 - val_loss: 0.1446 - val_accuracy: 0.7972\n",
      "Epoch 81/100\n",
      "16/16 [==============================] - 32s 2s/step - loss: 4.2872e-05 - accuracy: 1.0000 - val_loss: 0.1453 - val_accuracy: 0.7966\n",
      "Epoch 82/100\n",
      "16/16 [==============================] - 32s 2s/step - loss: 4.1225e-05 - accuracy: 1.0000 - val_loss: 0.1457 - val_accuracy: 0.7964\n",
      "Epoch 83/100\n",
      "16/16 [==============================] - 32s 2s/step - loss: 3.9903e-05 - accuracy: 1.0000 - val_loss: 0.1462 - val_accuracy: 0.7978\n",
      "Epoch 84/100\n",
      "16/16 [==============================] - 32s 2s/step - loss: 3.8369e-05 - accuracy: 1.0000 - val_loss: 0.1463 - val_accuracy: 0.7958\n",
      "Epoch 85/100\n",
      "16/16 [==============================] - 32s 2s/step - loss: 3.7214e-05 - accuracy: 1.0000 - val_loss: 0.1468 - val_accuracy: 0.7946\n",
      "Epoch 86/100\n",
      "16/16 [==============================] - 32s 2s/step - loss: 3.6221e-05 - accuracy: 1.0000 - val_loss: 0.1468 - val_accuracy: 0.7955\n",
      "Epoch 87/100\n",
      "16/16 [==============================] - 32s 2s/step - loss: 3.5095e-05 - accuracy: 1.0000 - val_loss: 0.1473 - val_accuracy: 0.7946\n",
      "Epoch 88/100\n",
      "16/16 [==============================] - 32s 2s/step - loss: 3.4335e-05 - accuracy: 1.0000 - val_loss: 0.1477 - val_accuracy: 0.7964\n",
      "Epoch 89/100\n",
      "16/16 [==============================] - 32s 2s/step - loss: 3.3172e-05 - accuracy: 1.0000 - val_loss: 0.1483 - val_accuracy: 0.7940\n",
      "Epoch 90/100\n",
      "16/16 [==============================] - 32s 2s/step - loss: 3.1920e-05 - accuracy: 1.0000 - val_loss: 0.1487 - val_accuracy: 0.7955\n",
      "Epoch 91/100\n",
      "16/16 [==============================] - 32s 2s/step - loss: 3.1070e-05 - accuracy: 1.0000 - val_loss: 0.1490 - val_accuracy: 0.7952\n",
      "Epoch 92/100\n",
      "16/16 [==============================] - 32s 2s/step - loss: 3.0263e-05 - accuracy: 1.0000 - val_loss: 0.1492 - val_accuracy: 0.7943\n",
      "Epoch 93/100\n",
      "16/16 [==============================] - 32s 2s/step - loss: 2.9535e-05 - accuracy: 1.0000 - val_loss: 0.1495 - val_accuracy: 0.7940\n",
      "Epoch 94/100\n",
      "16/16 [==============================] - 32s 2s/step - loss: 2.8546e-05 - accuracy: 1.0000 - val_loss: 0.1500 - val_accuracy: 0.7943\n",
      "Epoch 95/100\n",
      "16/16 [==============================] - 32s 2s/step - loss: 2.7789e-05 - accuracy: 1.0000 - val_loss: 0.1506 - val_accuracy: 0.7938\n",
      "Epoch 96/100\n",
      "16/16 [==============================] - 32s 2s/step - loss: 2.7176e-05 - accuracy: 1.0000 - val_loss: 0.1511 - val_accuracy: 0.7935\n",
      "Epoch 97/100\n",
      "16/16 [==============================] - 32s 2s/step - loss: 2.6375e-05 - accuracy: 1.0000 - val_loss: 0.1511 - val_accuracy: 0.7946\n",
      "Epoch 98/100\n",
      "16/16 [==============================] - 32s 2s/step - loss: 2.5619e-05 - accuracy: 1.0000 - val_loss: 0.1519 - val_accuracy: 0.7932\n",
      "Epoch 99/100\n",
      "16/16 [==============================] - 32s 2s/step - loss: 2.4955e-05 - accuracy: 1.0000 - val_loss: 0.1522 - val_accuracy: 0.7943\n",
      "Epoch 100/100\n",
      "16/16 [==============================] - 32s 2s/step - loss: 2.4259e-05 - accuracy: 1.0000 - val_loss: 0.1522 - val_accuracy: 0.7923\n"
     ]
    }
   ],
   "source": [
    "# train the RNN\n",
    "r = model.fit(w_vecs, y3,epochs=100, validation_split=0.20)"
   ]
  },
  {
   "cell_type": "code",
   "execution_count": 12,
   "metadata": {},
   "outputs": [
    {
     "data": {
      "text/plain": [
       "<matplotlib.legend.Legend at 0x1548a58e9c8>"
      ]
     },
     "execution_count": 12,
     "metadata": {},
     "output_type": "execute_result"
    },
    {
     "data": {
      "image/png": "[encoded data removed]",
      "text/plain": [
       "<Figure size 432x288 with 1 Axes>"
      ]
     },
     "metadata": {
      "needs_background": "light"
     },
     "output_type": "display_data"
    }
   ],
   "source": [
    "# Plot the loss\n",
    "plt.plot(r.history['loss'], label='loss')\n",
    "plt.plot(r.history['val_loss'], label='val_loss')\n",
    "plt.legend()"
   ]
  },
  {
   "cell_type": "code",
   "execution_count": 13,
   "metadata": {},
   "outputs": [
    {
     "data": {
      "text/plain": [
       "<matplotlib.legend.Legend at 0x154b3a46dc8>"
      ]
     },
     "execution_count": 13,
     "metadata": {},
     "output_type": "execute_result"
    },
    {
     "data": {
      "image/png": "[encoded data removed]",
      "text/plain": [
       "<Figure size 432x288 with 1 Axes>"
      ]
     },
     "metadata": {
      "needs_background": "light"
     },
     "output_type": "display_data"
    }
   ],
   "source": [
    "# Plot the accuracy too - should be around 50%\n",
    "plt.plot(r.history['accuracy'], label='acc')\n",
    "plt.plot(r.history['val_accuracy'], label='val_acc')\n",
    "plt.legend()"
   ]
  },
  {
   "cell_type": "code",
   "execution_count": null,
   "metadata": {},
   "outputs": [],
   "source": [
    "\n",
    "# output = model.predict(s_zeros)\n",
    "\n",
    "# for fitem in output:\n",
    "#     for item in fitem:\n",
    "#         for i in range(0,4):\n",
    "#             if item[i]>=0.5:\n",
    "#                 item[i]=1\n",
    "#             else:\n",
    "#                 item[i]=0\n",
    "\n",
    "\n",
    "# phrase_border = []\n",
    "# for item in output:\n",
    "#     for si in item:\n",
    "#         for i in range(0,4):\n",
    "#             if si[i] == 1:\n",
    "#                 phrase_border.append(i)\n",
    "# print(phrase_border)\n",
    "\n",
    "# phrase = []\n",
    "# for item in t_list:\n",
    "#     if item[1]== 1:\n",
    "#         phrase.append(item[0])\n",
    "#     elif item[1] == 2:\n",
    "#         print(' '.join(phrase))\n",
    "#         phrase = []\n",
    "#         phrase.append(item[0])\n",
    "#     else:\n",
    "#         phrase.append(item[0])\n",
    "#         print(' '.join(phrase))\n",
    "#         phrase = []\n",
    "\n",
    "\n",
    "# # Plot confusion matrix\n",
    "# from sklearn.metrics import confusion_matrix\n",
    "# import itertools\n",
    "\n",
    "# def plot_confusion_matrix(cm, classes,\n",
    "#                           normalize=False,\n",
    "#                           title='Confusion matrix',\n",
    "#                           cmap=plt.cm.Blues):\n",
    "#   \"\"\"\n",
    "#   This function prints and plots the confusion matrix.\n",
    "#   Normalization can be applied by setting `normalize=True`.\n",
    "#   \"\"\"\n",
    "#   if normalize:\n",
    "#       cm = cm.astype('float') / cm.sum(axis=1)[:, np.newaxis]\n",
    "#       print(\"Normalized confusion matrix\")\n",
    "#   else:\n",
    "#       print('Confusion matrix, without normalization')\n",
    "\n",
    "#   print(cm)\n",
    "\n",
    "#   plt.imshow(cm, interpolation='nearest', cmap=cmap)\n",
    "#   plt.title(title)\n",
    "#   plt.colorbar()\n",
    "#   tick_marks = np.arange(len(classes))\n",
    "#   plt.xticks(tick_marks, classes, rotation=45)\n",
    "#   plt.yticks(tick_marks, classes)\n",
    "\n",
    "#   fmt = '.2f' if normalize else 'd'\n",
    "#   thresh = cm.max() / 2.\n",
    "#   for i, j in itertools.product(range(cm.shape[0]), range(cm.shape[1])):\n",
    "#       plt.text(j, i, format(cm[i, j], fmt),\n",
    "#                horizontalalignment=\"center\",\n",
    "#                color=\"white\" if cm[i, j] > thresh else \"black\")\n",
    "\n",
    "#   plt.tight_layout()\n",
    "#   plt.ylabel('True label')\n",
    "#   plt.xlabel('Predicted label')\n",
    "#   plt.show()\n",
    "\n",
    "\n",
    "# p_test = model.predict(X_test).argmax(axis=1)\n",
    "# cm = confusion_matrix(y_test, p_test)\n",
    "# plot_confusion_matrix(cm, list(range(10)))\n",
    "\n",
    "\n",
    "# # Show some misclassified examples\n",
    "# misclassified_idx = np.where(p_test != y_test)[0]\n",
    "# i = np.random.choice(misclassified_idx)\n",
    "# plt.imshow(x_test[i].reshape(28,28), cmap='gray')\n",
    "# # plt.title(\"True label: %s Predicted: %s\" % (labels[y_test[i]], labels[p_test[i]]));\n",
    "\n",
    "# phr_border = phrase_border[0:len(pred_s)]\n",
    "# senti = [word.text for word in pred_s]\n",
    "# t_list = list(zip(senti, phr_border))\n",
    "# print(t_list)"
   ]
  },
  {
   "cell_type": "code",
   "execution_count": 14,
   "metadata": {},
   "outputs": [],
   "source": [
    "pred_s = 'A total of five RCTs were included in this analysis.'\n",
    "sent_zeros = np.zeros((1,250,200))\n",
    "pred_s = nlp(pred_s)\n",
    "for i in range(0,len(pred_s)):\n",
    "    sent_zeros[0,i] = pred_s[i].vector\n"
   ]
  },
  {
   "cell_type": "code",
   "execution_count": 21,
   "metadata": {},
   "outputs": [],
   "source": [
    "output = model.predict(sent_zeros).argmax(axis=2)"
   ]
  },
  {
   "cell_type": "code",
   "execution_count": 30,
   "metadata": {},
   "outputs": [
    {
     "name": "stdout",
     "output_type": "stream",
     "text": [
      "11\n"
     ]
    }
   ],
   "source": [
    "print(len(pred_s))"
   ]
  },
  {
   "cell_type": "code",
   "execution_count": 32,
   "metadata": {},
   "outputs": [
    {
     "name": "stdout",
     "output_type": "stream",
     "text": [
      "[A, 4, total, 9, of, 9, five, 9, RCTs, 1, were, 8, included, 9, in, 1, this, 2, analysis, 9, ., 1]\n"
     ]
    }
   ],
   "source": [
    "sent_to_write = []\n",
    "for i in range(0, len(pred_s)):\n",
    "    sent_to_write.append(pred_s[i])\n",
    "    sent_to_write.append(output[0][i])\n",
    "print(sent_to_write)"
   ]
  },
  {
   "cell_type": "code",
   "execution_count": 25,
   "metadata": {},
   "outputs": [],
   "source": [
    "#p_test = model.predict(output).argmax(axis=2)"
   ]
  },
  {
   "cell_type": "code",
   "execution_count": null,
   "metadata": {},
   "outputs": [],
   "source": [
    "vec_test = np.zeros((len(X_test),max_len,200))\n",
    "for i in range(0,len(X_test)):\n",
    "    for j in range(0,len(X_test[i])):\n",
    "        vec_test[i,j] = nlp(X_test[i][j]).vector\n",
    "print(vec_test.shape)"
   ]
  },
  {
   "cell_type": "code",
   "execution_count": null,
   "metadata": {},
   "outputs": [],
   "source": []
  },
  {
   "cell_type": "code",
   "execution_count": null,
   "metadata": {},
   "outputs": [],
   "source": [
    "p_test = model.predict(vec_test).argmax(axis=2)"
   ]
  },
  {
   "cell_type": "code",
   "execution_count": null,
   "metadata": {},
   "outputs": [],
   "source": [
    "def word_count(X_test):\n",
    "    words_count = {}\n",
    "    for i in range(len(X_test)):\n",
    "        for j in range(len(X_test[i])):\n",
    "            words_count[X_test[i][j]]=0\n",
    "    return words_count\n",
    "\n",
    "def misclassified(y_test,p_test, w_counts):\n",
    "    for i in range(len(y_test)):\n",
    "        predicted = p_test[i][0:len(y_test[i])+1]\n",
    "        for j in range(len(y_test[i])):\n",
    "            if y_test[i][j] != predicted[j]:\n",
    "                w_counts[X_test[i][j]] +=1\n",
    "    misclassified = dict(sorted(w_counts.items(), key=lambda item: item[1],reverse=True))\n",
    "    return misclassified"
   ]
  },
  {
   "cell_type": "code",
   "execution_count": null,
   "metadata": {},
   "outputs": [],
   "source": [
    "wc = word_count(X_test)\n",
    "mis = misclassified(y_test,p_test, wc)"
   ]
  },
  {
   "cell_type": "code",
   "execution_count": null,
   "metadata": {},
   "outputs": [],
   "source": [
    "model_path = 'C:/Users/Helen/python_crap/tf_models/'\n",
    "model.save(model_path+'IKWmodel')"
   ]
  },
  {
   "cell_type": "code",
   "execution_count": null,
   "metadata": {},
   "outputs": [],
   "source": []
  },
  {
   "cell_type": "code",
   "execution_count": null,
   "metadata": {},
   "outputs": [],
   "source": []
  }
 ],
 "metadata": {
  "kernelspec": {
   "display_name": "Python 3",
   "language": "python",
   "name": "python3"
  },
  "language_info": {
   "codemirror_mode": {
    "name": "ipython",
    "version": 3
   },
   "file_extension": ".py",
   "mimetype": "text/x-python",
   "name": "python",
   "nbconvert_exporter": "python",
   "pygments_lexer": "ipython3",
   "version": "3.7.6"
  }
 },
 "nbformat": 4,
 "nbformat_minor": 4
}
