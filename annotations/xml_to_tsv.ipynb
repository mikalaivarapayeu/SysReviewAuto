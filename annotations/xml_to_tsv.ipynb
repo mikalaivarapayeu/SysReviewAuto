{
 "cells": [
  {
   "cell_type": "code",
   "execution_count": 1,
   "metadata": {},
   "outputs": [],
   "source": [
    "#import numpy as np\n",
    "#import pandas as pd\n",
    "#import xml.etree.ElementTree as ET\n",
    "#import zipfile\n",
    "import os\n",
    "import csv\n",
    "import re\n",
    "from lxml import etree\n",
    "import scispacy\n",
    "import spacy\n",
    "nlp = spacy.load(\"en_core_sci_md\")\n",
    "import pandas as pd"
   ]
  },
  {
   "cell_type": "code",
   "execution_count": 30,
   "metadata": {},
   "outputs": [],
   "source": [
    "def tsv_writer(sent_tag, sent, file_name):\n",
    "    row = []\n",
    "    with open(file_name, 'a+', newline='', encoding=\"utf-8\") as f:\n",
    "        csvwriter = csv.writer(f,delimiter = '\\t')\n",
    "        #row.append(art_name)\n",
    "        row.append(sent)\n",
    "        row.append(sent_tag)\n",
    "        csvwriter.writerow(row)\n",
    "        return"
   ]
  },
  {
   "cell_type": "code",
   "execution_count": 4,
   "metadata": {},
   "outputs": [],
   "source": [
    "def file_list():\n",
    "    with zipfile.ZipFile('C:/Users/Helen/Downloads/allofplos_xml/allofplos_xml.zip','r')as z_file:\n",
    "        for fileName in z_file.namelist():\n",
    "            yield(fileName)"
   ]
  },
  {
   "cell_type": "code",
   "execution_count": 6,
   "metadata": {},
   "outputs": [],
   "source": [
    "# for f_name in f_names:\n",
    "#     fName = f_name.split('.')\n",
    "#     if fName[1] =='pmed':\n",
    "#         with zipfile.ZipFile('C:/Users/Helen/Downloads/allofplos_xml/allofplos_xml.zip','r')as ze_file:\n",
    "#             ze_file.extract(f_name, path='C:/Users/Helen/python_crap/text_files/xml_files/Pmed')"
   ]
  },
  {
   "cell_type": "code",
   "execution_count": 2,
   "metadata": {},
   "outputs": [],
   "source": [
    "files = (f for f in os.listdir('C:/Users/Helen/python_crap/text_files/xml_files/Pmed'))"
   ]
  },
  {
   "cell_type": "code",
   "execution_count": 3,
   "metadata": {},
   "outputs": [],
   "source": [
    "art_titles = []\n",
    "source = 'C:/Users/Helen/python_crap/text_files/xml_files/Pmed/'\n",
    "destination = 'C:/Users/Helen/python_crap/text_files/xml_files/Pmed/ResArt/' \n",
    "for fileName in files:\n",
    "    article = source+fileName\n",
    "    #print(f_name)\n",
    "    art_tree = etree.parse(article)\n",
    "    artroot = art_tree.getroot()\n",
    "    #print(artroot.tag)\n",
    "    #t = re.compile('trial')\n",
    "    art_type = artroot.find('./front/article-meta/article-categories/subj-group[@subj-group-type=\"heading\"]/subject')\n",
    "    #print(art_type.text)\n",
    "    if art_type.text == 'Research Article':\n",
    "        art_title =artroot.find('./front/article-meta/title-group/article-title')\n",
    "        art_title_tuple = (fileName,art_title.text, 0)\n",
    "        art_titles.append(art_title_tuple)"
   ]
  },
  {
   "cell_type": "code",
   "execution_count": 5,
   "metadata": {},
   "outputs": [],
   "source": [
    "#print(art_titles)"
   ]
  },
  {
   "cell_type": "code",
   "execution_count": 7,
   "metadata": {},
   "outputs": [],
   "source": [
    "titles_w_space_rm = []\n",
    "for title in art_titles:\n",
    "    if title[1] is not None:\n",
    "        if '\\n' in title[1]:\n",
    "            try:\n",
    "                str_title = title[1].strip()\n",
    "                pr_title = ' '.join(str_title.split())\n",
    "                #print(pr_title)\n",
    "                titles_w_space_rm.append((title[0],pr_title,title[2]))\n",
    "            except:\n",
    "                print(title[1])\n",
    "        else:\n",
    "            titles_w_space_rm.append(title)"
   ]
  },
  {
   "cell_type": "code",
   "execution_count": 9,
   "metadata": {},
   "outputs": [],
   "source": [
    "file_name = 'C:/Users/Helen/python_crap/text_files/titles.tsv'\n",
    "for title in titles_w_space_rm:\n",
    "    tsv_writer(title[0],title[1],file_name)\n"
   ]
  },
  {
   "cell_type": "code",
   "execution_count": 4,
   "metadata": {},
   "outputs": [],
   "source": [
    "tr_f_name = 'C:/Users/Helen/python_crap/text_files/xml_files/First_batch50/'+'journal.pmed.1002015.xml'\n",
    "tree = etree.parse(tr_f_name)\n",
    "root = tree.getroot()\n",
    "#print(dir(root))\n",
    "print(root.tag)\n",
    "#art_type = root.find('./front/article-meta/article-categories/subj-group[@subj-group-type=\"heading\"]/subject')\n",
    "art_title = root.find('./front/article-meta/title-group/article-title')\n",
    "print(art_title.text)"
   ]
  },
  {
   "cell_type": "code",
   "execution_count": null,
   "metadata": {},
   "outputs": [],
   "source": [
    "filename = 'C:/Users/Helen/python_crap/text_files/methods090721.tsv'\n",
    "for fls in trial_art:\n",
    "    tr_f_name = 'C:/Users/Helen/python_crap/text_files/xml_files/First_batch50/'+fls[1]\n",
    "    tree = etree.parse(tr_f_name)\n",
    "    root = tree.getroot()\n",
    "    body_elm = root.find('./body/sec[@sec-type=\"materials|methods\"]')\n",
    "    body_subtree = etree.ElementTree(body_elm) \n",
    "    etree.strip_tags(body_subtree, 'xref')\n",
    "    etree.strip_tags(body_subtree, 'ext-link')\n",
    "    for el in body_subtree.iter():\n",
    "        if el.tag == 'p':\n",
    "            doc = nlp(el.text)\n",
    "            for sent in doc.sents:\n",
    "                tsv_writer(sent,filename)"
   ]
  },
  {
   "cell_type": "code",
   "execution_count": null,
   "metadata": {},
   "outputs": [],
   "source": [
    "'./front/article-meta/article-categories/subj-group[@subj-group-type=\"heading\"]/subject'\n",
    "'./front/article-meta/title-group/article-title'"
   ]
  },
  {
   "cell_type": "code",
   "execution_count": 40,
   "metadata": {},
   "outputs": [],
   "source": [
    "fileName = 'C:/Users/Helen/python_crap/text_files/xml_files/Pmed/ResArtResArtjournal.pmed.1002785.xml'\n",
    "tree = etree.parse(fileName)\n",
    "root = tree.getroot()\n",
    "p_el = root.find('./body/sec[@sec-type=\"materials|methods\"]')\n",
    "s_tree = etree.ElementTree(p_el)\n",
    "for el in s_tree.iter():\n",
    "    etree.strip_tags(el, 'xref')\n",
    "    if el.tag == 'p':\n",
    "#         etree.strip_tags(el, 'italic')\n",
    "#         etree.strip_tags(el, 'xref')\n",
    "#         etree.strip_tags(el, 'ext-link')\n",
    "#         print(el.text)\n",
    "        pass"
   ]
  },
  {
   "cell_type": "code",
   "execution_count": 34,
   "metadata": {},
   "outputs": [],
   "source": [
    "cl_names = ['art_name','title', 'value']\n",
    "resartDf = pd.read_csv('C:/Users/Helen/python_crap/text_files/titles.tsv', delimiter = '\\t', names = cl_names)\n",
    "#resartDf.head()\n",
    "filt = (resartDf['value'] == 1)\n",
    "resartDf.loc[filt]\n",
    "rctDf = resartDf.loc[filt]\n",
    "#rctDf.head()\n",
    "#rctDf"
   ]
  },
  {
   "cell_type": "code",
   "execution_count": 35,
   "metadata": {},
   "outputs": [],
   "source": [
    "initial_tag = 'No tag found'\n",
    "filename = 'C:/Users/Helen/python_crap/text_files/SCRCT_corpus.tsv'\n",
    "dir_path = 'C:/Users/Helen/python_crap/text_files/xml_files/Pmed/'\n",
    "for rct in rctDf['art_name'].iteritems():\n",
    "    fileName = dir_path+rct[1]\n",
    "    article_tree = etree.parse(fileName)\n",
    "    article_root = article_tree.getroot()\n",
    "    #print(article_root.tag)\n",
    "    body_section = article_root.find('./body/sec[@sec-type=\"materials|methods\"]')\n",
    "    body_section_subtree = etree.ElementTree(body_section) \n",
    "    for el in body_section_subtree.iter():\n",
    "        etree.strip_tags(el, 'italic')\n",
    "        etree.strip_tags(el, 'xref')\n",
    "        etree.strip_tags(el, 'ext-link')\n",
    "        etree.strip_tags(el, 'sub')\n",
    "        if el.tag == 'title':\n",
    "            s_title = el.text.lower()\n",
    "            #cur_tag = subtitles.loc[s_title,'class']       \n",
    "            try:\n",
    "                cur_tag = subtitles.loc[s_title,'class']\n",
    "            except:\n",
    "                cur_tag = initial_tag\n",
    "        if el.tag == 'p':\n",
    "            #print(el.tag)\n",
    "            if el.text != None:\n",
    "                doc = nlp(el.text)\n",
    "                for sent in doc.sents:\n",
    "                    tsv_writer(cur_tag,sent,filename)"
   ]
  },
  {
   "cell_type": "code",
   "execution_count": 23,
   "metadata": {},
   "outputs": [],
   "source": [
    "extracted_subtitles = []\n",
    "filename = 'C:/Users/Helen/python_crap/text_files/subtitles.tsv'\n",
    "dir_path = 'C:/Users/Helen/python_crap/text_files/xml_files/Pmed/'\n",
    "for rct in rctDf['art_name'].iteritems():\n",
    "    fileName = dir_path+rct[1]\n",
    "    article_tree = etree.parse(fileName)\n",
    "    article_root = article_tree.getroot()\n",
    "    #print(article_root.tag)\n",
    "    body_section = article_root.find('./body/sec[@sec-type=\"materials|methods\"]')\n",
    "    body_section_subtree = etree.ElementTree(body_section) \n",
    "    for el in body_section_subtree.iter():\n",
    "        etree.strip_tags(el, 'italic')\n",
    "        if el.tag == 'title':\n",
    "            extracted_subtitles.append(el.text)\n",
    "            #print(el.text)\n",
    "            #tsv_writer(rct[1],el.text,filename)"
   ]
  },
  {
   "cell_type": "code",
   "execution_count": 24,
   "metadata": {},
   "outputs": [],
   "source": [
    "pr_subtitles = []\n",
    "for subtitle in extracted_subtitles:\n",
    "    if subtitle is not None:\n",
    "        if subtitle.lower() not in pr_subtitles:\n",
    "            pr_subtitles.append(subtitle.lower())\n",
    "filename = 'C:/Users/Helen/python_crap/text_files/subtitles.tsv'\n",
    "for subtitle in pr_subtitles:\n",
    "    tsv_writer(0,subtitle,filename)"
   ]
  },
  {
   "cell_type": "code",
   "execution_count": 5,
   "metadata": {},
   "outputs": [
    {
     "data": {
      "text/html": [
       "<div>\n",
       "<style scoped>\n",
       "    .dataframe tbody tr th:only-of-type {\n",
       "        vertical-align: middle;\n",
       "    }\n",
       "\n",
       "    .dataframe tbody tr th {\n",
       "        vertical-align: top;\n",
       "    }\n",
       "\n",
       "    .dataframe thead th {\n",
       "        text-align: right;\n",
       "    }\n",
       "</style>\n",
       "<table border=\"1\" class=\"dataframe\">\n",
       "  <thead>\n",
       "    <tr style=\"text-align: right;\">\n",
       "      <th></th>\n",
       "      <th>title</th>\n",
       "      <th>class</th>\n",
       "    </tr>\n",
       "  </thead>\n",
       "  <tbody>\n",
       "    <tr>\n",
       "      <th>0</th>\n",
       "      <td>materials and methods</td>\n",
       "      <td>NS</td>\n",
       "    </tr>\n",
       "    <tr>\n",
       "      <th>1</th>\n",
       "      <td>study design</td>\n",
       "      <td>SDZ</td>\n",
       "    </tr>\n",
       "    <tr>\n",
       "      <th>2</th>\n",
       "      <td>ethical approval</td>\n",
       "      <td>E</td>\n",
       "    </tr>\n",
       "    <tr>\n",
       "      <th>3</th>\n",
       "      <td>study area</td>\n",
       "      <td>SDS</td>\n",
       "    </tr>\n",
       "    <tr>\n",
       "      <th>4</th>\n",
       "      <td>study endpoints</td>\n",
       "      <td>OE</td>\n",
       "    </tr>\n",
       "  </tbody>\n",
       "</table>\n",
       "</div>"
      ],
      "text/plain": [
       "                   title class\n",
       "0  materials and methods    NS\n",
       "1           study design   SDZ\n",
       "2       ethical approval     E\n",
       "3             study area   SDS\n",
       "4        study endpoints    OE"
      ]
     },
     "execution_count": 5,
     "metadata": {},
     "output_type": "execute_result"
    }
   ],
   "source": [
    "filename = 'C:/Users/Helen/python_crap/text_files/subtitles.tsv'\n",
    "col_names = ['title', 'class']\n",
    "subtitles = pd.read_csv(filename, delimiter = '\\t', names = col_names)\n",
    "subtitles.head()"
   ]
  },
  {
   "cell_type": "code",
   "execution_count": 7,
   "metadata": {},
   "outputs": [],
   "source": [
    "subtitles.set_index('title',inplace = True)"
   ]
  },
  {
   "cell_type": "code",
   "execution_count": 9,
   "metadata": {},
   "outputs": [
    {
     "data": {
      "text/html": [
       "<div>\n",
       "<style scoped>\n",
       "    .dataframe tbody tr th:only-of-type {\n",
       "        vertical-align: middle;\n",
       "    }\n",
       "\n",
       "    .dataframe tbody tr th {\n",
       "        vertical-align: top;\n",
       "    }\n",
       "\n",
       "    .dataframe thead th {\n",
       "        text-align: right;\n",
       "    }\n",
       "</style>\n",
       "<table border=\"1\" class=\"dataframe\">\n",
       "  <thead>\n",
       "    <tr style=\"text-align: right;\">\n",
       "      <th></th>\n",
       "      <th>class</th>\n",
       "    </tr>\n",
       "    <tr>\n",
       "      <th>title</th>\n",
       "      <th></th>\n",
       "    </tr>\n",
       "  </thead>\n",
       "  <tbody>\n",
       "    <tr>\n",
       "      <th>materials and methods</th>\n",
       "      <td>NS</td>\n",
       "    </tr>\n",
       "    <tr>\n",
       "      <th>study design</th>\n",
       "      <td>SDZ</td>\n",
       "    </tr>\n",
       "    <tr>\n",
       "      <th>ethical approval</th>\n",
       "      <td>E</td>\n",
       "    </tr>\n",
       "    <tr>\n",
       "      <th>study area</th>\n",
       "      <td>SDS</td>\n",
       "    </tr>\n",
       "    <tr>\n",
       "      <th>study endpoints</th>\n",
       "      <td>OE</td>\n",
       "    </tr>\n",
       "  </tbody>\n",
       "</table>\n",
       "</div>"
      ],
      "text/plain": [
       "                      class\n",
       "title                      \n",
       "materials and methods    NS\n",
       "study design            SDZ\n",
       "ethical approval          E\n",
       "study area              SDS\n",
       "study endpoints          OE"
      ]
     },
     "execution_count": 9,
     "metadata": {},
     "output_type": "execute_result"
    }
   ],
   "source": [
    "subtitles.head()"
   ]
  },
  {
   "cell_type": "code",
   "execution_count": 13,
   "metadata": {},
   "outputs": [
    {
     "name": "stdout",
     "output_type": "stream",
     "text": [
      "<class 'str'>\n"
     ]
    }
   ],
   "source": [
    "#dis_filt = (subtitles['class'].str.contains('SDZ'))\n",
    "subtitles.loc['study design', 'class']\n",
    "v = subtitles.loc['study design', 'class']\n",
    "print(type(v))"
   ]
  },
  {
   "cell_type": "code",
   "execution_count": 14,
   "metadata": {},
   "outputs": [
    {
     "data": {
      "text/html": [
       "<div>\n",
       "<style scoped>\n",
       "    .dataframe tbody tr th:only-of-type {\n",
       "        vertical-align: middle;\n",
       "    }\n",
       "\n",
       "    .dataframe tbody tr th {\n",
       "        vertical-align: top;\n",
       "    }\n",
       "\n",
       "    .dataframe thead th {\n",
       "        text-align: right;\n",
       "    }\n",
       "</style>\n",
       "<table border=\"1\" class=\"dataframe\">\n",
       "  <thead>\n",
       "    <tr style=\"text-align: right;\">\n",
       "      <th></th>\n",
       "      <th>class</th>\n",
       "    </tr>\n",
       "    <tr>\n",
       "      <th>title</th>\n",
       "      <th></th>\n",
       "    </tr>\n",
       "  </thead>\n",
       "  <tbody>\n",
       "    <tr>\n",
       "      <th>materials and methods</th>\n",
       "      <td>NS</td>\n",
       "    </tr>\n",
       "    <tr>\n",
       "      <th>study design</th>\n",
       "      <td>SDZ</td>\n",
       "    </tr>\n",
       "    <tr>\n",
       "      <th>ethical approval</th>\n",
       "      <td>E</td>\n",
       "    </tr>\n",
       "    <tr>\n",
       "      <th>study area</th>\n",
       "      <td>SDS</td>\n",
       "    </tr>\n",
       "    <tr>\n",
       "      <th>study endpoints</th>\n",
       "      <td>OE</td>\n",
       "    </tr>\n",
       "  </tbody>\n",
       "</table>\n",
       "</div>"
      ],
      "text/plain": [
       "                      class\n",
       "title                      \n",
       "materials and methods    NS\n",
       "study design            SDZ\n",
       "ethical approval          E\n",
       "study area              SDS\n",
       "study endpoints          OE"
      ]
     },
     "execution_count": 14,
     "metadata": {},
     "output_type": "execute_result"
    }
   ],
   "source": [
    "subtitles.head()"
   ]
  },
  {
   "cell_type": "code",
   "execution_count": 29,
   "metadata": {},
   "outputs": [
    {
     "name": "stdout",
     "output_type": "stream",
     "text": [
      "SP\n",
      "Between August 2000 and December 2003, we enrolled 42 patients infected with HIV who were older than 18 y and on ART; eligibility criteria included CD4 counts of greater than 400 cells/μl on ART with a nadir of no less than 100 cells/μl, ART-mediated suppression (< 500 copies/ml) for more than 6 mo and less than 50 copies/ml at recruitment on any antiretroviral regimen.\n",
      "SP\n",
      "Approval of the study protocol was obtained from the institutional review board (IRB) of the Philadelphia Field Initiating Group for HIV Trials (Philadelphia, Pennsylvania, United States).\n",
      "SP\n",
      "Written informed consent was obtained from all patients.\n",
      "SP\n",
      "Human experimentation guidelines of the United States Department of Health and Human Services and of the authors' institutions were followed.\n",
      "SP\n",
      "The study protocol, including the patient consent form, the CONSORT form, and the IRB approval, can be found in Protocols S1–S4.\n",
      "No tag found\n",
      "Forty-two eligible patients from the Jonathan Lax Immune Disorder Clinic in Philadelphia, Pennsylvania, were randomized via sealed envelopes in a 1:1 fashion to a first phase (phase I) of either (1) three successive TIs of 2, 4, and 6 wk, respectively, or (2) maintenance of ART for 40 wk before a final interruption of therapy in both arms (phase II) subject to therapy reinitiation criteria as described below.\n",
      "No tag found\n",
      "Phase II consisted of an open-ended interruption to allow for virological and immunological comparisons between the groups off therapy.\n",
      "No tag found\n",
      "Study visits were every 2 wk for the repeated interruptions group and every 4 wk for the continuous ART group during phase I. Both groups were followed every 2 wk during phase II.\n",
      "No tag found\n",
      "We followed a study design with step-wise increases in the length of TI cycles to address potential safety concerns (resuppression was confirmed after shorter TIs before longer interruptions were initiated) and the hypothesis that sequential viral replication intervals would stimulate viral control and a delay in time to viral rebound.\n",
      "No tag found\n",
      "Phase I procedures for the repeated interruptions group included the following.\n",
      "No tag found\n",
      "(1) Interruption of therapy was individually timed to occur after two HIV RNA measurements of less than 50 copies/ml without any viral load measurements greater than 400 copies/ml in between; these interruptions increased from 2 to 4 to 6 wk sequentially.\n",
      "No tag found\n",
      "(2) If a 0.5-log or greater reduction in viral load did not occur by 6 wk of reinitiated therapy or less than 50 copies/ml was not achieved within 20 wk of reinitiated therapy, patients were withdrawn as therapy failures and a resistance test was performed.\n",
      "No tag found\n",
      "(3) Patients were also withdrawn as therapy failures if (a) the CD4 cell number declined by more than 45% of the baseline CD4 count, (b) participants developed an opportunistic infection, even if retaining required CD4 count levels, or (c) a viral load of greater than 500,000 copies/ml occurred once, with or without development of acute retroviral syndrome as defined by fever, skin lesions, and pharyngitis.\n",
      "No tag found\n",
      "Phase I procedures for the continuous therapy arm included the following: (1) patient monitoring if detected viremia was between 50 and 999 copies/ml, with the patient withdrawn if their viral load did not return to less than 50 copies/ml immediately prior to phase II, and (2) patient study withdrawal as therapy failure if during the 40-wk ART period viral load rebounded to more than 1,000 copies/ml at two consecutive time points.\n",
      "No tag found\n",
      "Phase II procedures for both arms included the following: (1) monitoring for patient study withdrawal criteria as described in phase I, (2) determining time to primary end point of a viral load greater than 5,000 copies/ml, (3) monitoring until the time of therapy reinitiation at a viral load greater than 30,000 copies/ml for three consecutive time points, and (4) after reinitiation of therapy, follow-up on therapy to confirm resuppression to less than 50 copies/ml at 6, 10, and 14 wk on therapy.\n",
      "No tag found\n",
      "Clinical and laboratory parameters (CD4 count and viral load) were monitored at each visit, and venous blood was collected for additional secondary outcomes during selected study visits.\n",
      "No tag found\n",
      "In both phase I and II, participants taking non-nucleoside reverse-transcriptase inhibitors (NNRTIs) were instructed to stop them a day earlier than the remaining drugs in the regimen.\n",
      "OE\n",
      "The primary outcome was time to confirmed virological rebound during phase II.\n",
      "OE\n",
      "Rebound was defined as first time point with greater than 5,000 copies/ml.\n",
      "OE\n",
      "Viral replication magnitude as defined by mean HIV-1 plasma RNA area under the curve (AUCHIV RNA) was measured as a secondary outcome at weeks 12 and 20 of phase II based on reinitiation-of-therapy criteria outlined above.\n",
      "OE\n",
      "Additional secondary outcomes included (1) safety outcomes (serious adverse events [SAEs] and patient withdrawal based on criteria defined above), (2) retention of ART-mediated immune reconstitution, and (3) detection of viral resistance.\n",
      "OE\n",
      "Retention of immune reconstitution was analyzed by (1) same-day whole blood flow-cytometry-based analysis of CD4 and CD8 T cells, including total and naïve (CD62 l/CD45RA) and memory (CD45RO) subsets as described [17], and (2) same-day recall response analysis of peripheral blood mononuclear cell lymphoproliferative responses to\n",
      "SSZ\n",
      "The sample size required was calculated using PS [20] software, and based on a type I error of 0.05, with 90% power, to detect a difference of 4 wk or more in time to viral rebound between arms.\n",
      "SSZ\n",
      "Eighteen patients per group resulted in sufficient power (18 for 90%, 13 for 80%) to determine a difference of 4 wk or greater between groups in time to rebound of virus during the open-ended interruption.\n",
      "SSZ\n",
      "Assuming a loss to follow-up of 15%, we targeted 21 patients per group, or 42 total.\n",
      "ST\n",
      "The primary analysis was an intent-to-treat analysis in which dropouts were assigned a week 0 rebound time (e.g., maximum failure to delay rebound).\n",
      "ST\n",
      "In secondary analyses, these dropouts were excluded.\n",
      "ST\n",
      "The log-rank test was used to test the null hypothesis of no difference between arms in the number of weeks from initiation of the open-ended TI to reaching viral rebound as defined.\n",
      "ST\n",
      "Patients not reaching end point at 26 wk after the beginning of the open-ended TI were censored.\n",
      "ST\n",
      "Wilcoxon rank sum tests were used to compare baseline and week 0 of the open-ended interruption between groups.\n",
      "ST\n",
      "Wilcoxon signed rank tests were used to test for no change from baseline to week 0 of phase II.\n",
      "ST\n",
      "Finally, Wilcoxon rank sum tests were employed to test between groups for equality of the mean AUCHIV RNA up to 12 and 20 wk.\n",
      "ST\n",
      "In all cases, a two-sided alpha level of 0.05 was used to define statistical significance.\n",
      "ST\n",
      "Unless otherwise stated, results are presented as median (interquartile range) in text and tables.\n"
     ]
    }
   ],
   "source": [
    "initial_tag = 'No tag found'\n",
    "file_name = 'ResArtResArtjournal.pmed.0010064.xml'\n",
    "dir_path = 'C:/Users/Helen/python_crap/text_files/xml_files/Pmed/'\n",
    "full_path = dir_path+file_name\n",
    "article_tree = etree.parse(full_path)\n",
    "article_root = article_tree.getroot()\n",
    "#print(article_root.tag)\n",
    "body_section = article_root.find('./body/sec[@id=\"s2\"]')\n",
    "body_section_subtree = etree.ElementTree(body_section)\n",
    "#print(body_section_subtree)\n",
    "for el in body_section_subtree.iter():\n",
    "    etree.strip_tags(el, 'italic')\n",
    "    etree.strip_tags(el, 'xref')\n",
    "    etree.strip_tags(el, 'ext-link')\n",
    "    etree.strip_tags(el, 'sub')\n",
    "    if el.tag == 'title':\n",
    "        s_title = el.text.lower()\n",
    "        #cur_tag = subtitles.loc[s_title,'class']       \n",
    "        try:\n",
    "            cur_tag = subtitles.loc[s_title,'class']\n",
    "        except:\n",
    "            cur_tag = initial_tag\n",
    "    if el.tag == 'p':\n",
    "#         print(el.text)\n",
    "        doc = nlp(el.text)\n",
    "        for sent in doc.sents:\n",
    "            print(cur_tag)\n",
    "            print(sent)"
   ]
  },
  {
   "cell_type": "code",
   "execution_count": null,
   "metadata": {},
   "outputs": [],
   "source": []
  }
 ],
 "metadata": {
  "kernelspec": {
   "display_name": "Python 3",
   "language": "python",
   "name": "python3"
  },
  "language_info": {
   "codemirror_mode": {
    "name": "ipython",
    "version": 3
   },
   "file_extension": ".py",
   "mimetype": "text/x-python",
   "name": "python",
   "nbconvert_exporter": "python",
   "pygments_lexer": "ipython3",
   "version": "3.7.6"
  }
 },
 "nbformat": 4,
 "nbformat_minor": 4
}
