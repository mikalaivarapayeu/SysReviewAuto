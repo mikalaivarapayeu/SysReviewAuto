{
 "cells": [
  {
   "cell_type": "code",
   "execution_count": 1,
   "metadata": {},
   "outputs": [],
   "source": [
    "#import numpy as np\n",
    "#import pandas as pd\n",
    "#import xml.etree.ElementTree as ET\n",
    "#import zipfile\n",
    "import os\n",
    "import csv\n",
    "import re\n",
    "#from lxml import etree\n",
    "import scispacy\n",
    "import spacy\n",
    "nlp = spacy.load(\"en_core_sci_md\")\n",
    "import pandas as pd\n",
    "import random"
   ]
  },
  {
   "cell_type": "code",
   "execution_count": null,
   "metadata": {},
   "outputs": [],
   "source": [
    "# def remove_par(sn):\n",
    "#     #s = ([tuple(sn[i:i + 2]) for i in range(0, len(sn), 2)])\n",
    "#     brac_dict = {'(':')','[':']','{':'}'}\n",
    "#     brac_ls = ['(',')','[',']','{','}']\n",
    "#     par = False\n",
    "#     brac = None\n",
    "#     sent = []\n",
    "#     for item in sn:\n",
    "#         if item in brac_dict and par == False:\n",
    "#             par = True\n",
    "#             brac = brac_dict[item]\n",
    "#         if item == brac:\n",
    "#             par = False\n",
    "#             brac = None\n",
    "#         if item not in brac_ls and par == False:\n",
    "#             sent.append(item)\n",
    "#             #sent.append(item[1])\n",
    "#     return sent"
   ]
  },
  {
   "cell_type": "code",
   "execution_count": 2,
   "metadata": {},
   "outputs": [],
   "source": [
    "def get_data(file_name):\n",
    "    proc_content = []\n",
    "    with open(file_name, 'r+', newline='', encoding=\"utf-8\") as f:\n",
    "        reader = csv.reader(f, delimiter='\\t')\n",
    "        for row in reader:\n",
    "            #row.replace('t',' ')\n",
    "            proc_content.append(row)                   \n",
    "            #proc_content.append(remove_par(row))                   \n",
    "        return proc_content"
   ]
  },
  {
   "cell_type": "code",
   "execution_count": 23,
   "metadata": {},
   "outputs": [],
   "source": [
    "def tsv_writer(row, file_name): \n",
    "    with open(file_name, 'a+', newline='', encoding=\"utf-8\") as f:\n",
    "        csvwriter = csv.writer(f,delimiter = '\\t')\n",
    "        csvwriter.writerow(row)\n",
    "        return"
   ]
  },
  {
   "cell_type": "code",
   "execution_count": 4,
   "metadata": {},
   "outputs": [],
   "source": [
    "file_name = 'C:/Users/Helen/Documents/python_crap/text_files/RCT_corpus _c.tsv'\n",
    "#file_data = get_data(file_name)"
   ]
  },
  {
   "cell_type": "code",
   "execution_count": 5,
   "metadata": {},
   "outputs": [],
   "source": [
    "with open(file_name, newline='', encoding=\"ISO-8859-1\")as f:\n",
    "    pass\n",
    "    reader = csv.reader(f, delimiter='\\t')"
   ]
  },
  {
   "cell_type": "code",
   "execution_count": 11,
   "metadata": {},
   "outputs": [],
   "source": [
    "random.shuffle(file_data)\n",
    "#random.shuffle(sents_t)\n",
    "#print(sents_t)"
   ]
  },
  {
   "cell_type": "code",
   "execution_count": 18,
   "metadata": {},
   "outputs": [],
   "source": [
    "file_name = 'C:/Users/Helen/python_crap/text_files/methods_260821.txt'\n",
    "for word_list in file_data:\n",
    "    sent = ' '.join(word_list)\n",
    "    sent = sent+'\\n'\n",
    "    #print(sent)\n",
    "    with open(file_name, 'a+', newline='', encoding=\"utf-8\") as f:\n",
    "        f.write(sent)"
   ]
  },
  {
   "cell_type": "code",
   "execution_count": 15,
   "metadata": {},
   "outputs": [],
   "source": [
    "i = 0\n",
    "sent_enum = []\n",
    "sent_to_write=[]\n",
    "for sent in file_data:\n",
    "    for word in sent:\n",
    "        sent_enum.append(word)\n",
    "        sent_enum.append(i)\n",
    "        i+=1\n",
    "    sent_enum.append('[999]')\n",
    "    sent_to_write.append(sent_enum)\n",
    "    sent_enum =[]\n",
    "    i = 0"
   ]
  },
  {
   "cell_type": "code",
   "execution_count": 3,
   "metadata": {},
   "outputs": [],
   "source": [
    "file_name = 'C:/Users/Helen/python_crap/text_files/SCRCT_corpus.tsv'\n",
    "col_names = ['sent','tag']\n",
    "rct = pd.read_csv(file_name, delimiter = '\\t',names = col_names)"
   ]
  },
  {
   "cell_type": "code",
   "execution_count": 14,
   "metadata": {},
   "outputs": [],
   "source": [
    "filt = rct['tag'].str.contains('SDS')"
   ]
  },
  {
   "cell_type": "code",
   "execution_count": 15,
   "metadata": {},
   "outputs": [],
   "source": [
    "design_sent = rct.loc[filt]"
   ]
  },
  {
   "cell_type": "code",
   "execution_count": 16,
   "metadata": {},
   "outputs": [],
   "source": [
    "design_sent_file = 'C:/Users/Helen/python_crap/text_files/SDS_sents.tsv'\n",
    "design_sent.to_csv(design_sent_file, sep = '\\t', index = False, header = False)"
   ]
  },
  {
   "cell_type": "code",
   "execution_count": 43,
   "metadata": {},
   "outputs": [],
   "source": [
    "file_source = 'C:\\\\Users\\\\Helen\\\\Documents\\\\python_crap\\\\text_files\\\\RCT_corpus.tsv'\n",
    "x = random.sample(range(7726),1000)\n",
    "x.sort()\n",
    "file_name =  'C:/Users/Helen/Documents/python_crap/text_files/1000sentsRCT.txt'\n",
    "with open(file_source, newline='', encoding=\"ISO-8859-1\") as txtfile:\n",
    "    for i in range(0, 7726):\n",
    "        sent = txtfile.readline()\n",
    "        if i in x:\n",
    "            sent = sent.split('\\t')\n",
    "            with open(file_name, 'a+', encoding=\"ISO-8859-1\") as f:\n",
    "                f.write(sent[0]+'\\n')"
   ]
  },
  {
   "cell_type": "code",
   "execution_count": 19,
   "metadata": {},
   "outputs": [],
   "source": []
  },
  {
   "cell_type": "code",
   "execution_count": 23,
   "metadata": {},
   "outputs": [
    {
     "name": "stdout",
     "output_type": "stream",
     "text": [
      "[10, 16, 20, 27, 31, 34, 43, 44, 52, 57, 60, 62, 64, 75, 81, 82, 85, 89, 93, 94, 101, 106, 118, 120, 123, 124, 133, 136, 140, 150, 152, 153, 168, 171, 181, 182, 187, 210, 215, 217, 219, 230, 237, 239, 241, 243, 256, 262, 276, 289, 292, 293, 297, 299, 304, 306, 320, 325, 327, 328, 331, 336, 347, 353, 363, 367, 370, 387, 389, 394, 403, 409, 410, 424, 449, 450, 454, 468, 469, 481, 491, 495, 501, 506, 518, 527, 532, 550, 561, 569, 575, 596, 599, 600, 609, 621, 653, 654, 663, 664, 680, 687, 689, 693, 698, 700, 701, 714, 731, 735, 742, 761, 763, 785, 788, 791, 793, 801, 810, 812, 817, 823, 828, 833, 834, 845, 905, 928, 934, 937, 944, 945, 951, 975, 979, 981, 998, 999, 1003, 1004, 1005, 1016, 1030, 1033, 1039, 1041, 1048, 1049, 1059, 1078, 1086, 1097, 1100, 1109, 1116, 1117, 1122, 1126, 1136, 1142, 1146, 1148, 1151, 1161, 1165, 1183, 1186, 1189, 1191, 1200, 1210, 1219, 1221, 1222, 1231, 1271, 1286, 1288, 1309, 1310, 1327, 1338, 1345, 1353, 1362, 1377, 1378, 1379, 1382, 1396, 1397, 1398, 1408, 1422, 1423, 1427, 1432, 1435, 1448, 1469, 1490, 1492, 1494, 1500, 1507, 1508, 1509, 1519, 1539, 1544, 1560, 1599, 1606, 1637, 1652, 1664, 1666, 1692, 1700, 1704, 1709, 1714, 1715, 1718, 1728, 1732, 1733, 1735, 1751, 1757, 1788, 1792, 1793, 1796, 1802, 1807, 1816, 1817, 1818, 1827, 1830, 1832, 1833, 1838, 1840, 1843, 1859, 1868, 1884, 1886, 1887, 1899, 1908, 1910, 1914, 1921, 1922, 1924, 1927, 1929, 1934, 1953, 1954, 1957, 1960, 1964, 1971, 1974, 1978, 1982, 1995, 2000, 2010, 2014, 2022, 2042, 2044, 2053, 2071, 2073, 2083, 2088, 2095, 2107, 2113, 2115, 2117, 2132, 2137, 2143, 2144, 2150, 2157, 2158, 2159, 2194, 2203, 2213, 2214, 2217, 2219, 2221, 2244, 2254, 2258, 2259, 2260, 2264, 2266, 2272, 2277, 2294, 2297, 2298, 2302, 2304, 2311, 2324, 2328, 2330, 2331, 2341, 2342, 2348, 2350, 2357, 2366, 2378, 2384, 2388, 2389, 2394, 2407, 2421, 2427, 2430, 2431, 2432, 2443, 2460, 2473, 2498, 2502, 2510, 2512, 2525, 2547, 2558, 2564, 2567, 2568, 2575, 2583, 2595, 2596, 2623, 2628, 2632, 2642, 2650, 2671, 2678, 2692, 2710, 2713, 2717, 2738, 2739, 2757, 2772, 2794, 2814, 2818, 2823, 2835, 2844, 2870, 2880, 2886, 2891, 2896, 2915, 2923, 2924, 2940, 2949, 2954, 2956, 2983, 2986, 3006, 3010, 3017, 3020, 3021, 3023, 3032, 3051, 3054, 3073, 3074, 3075, 3089, 3090, 3095, 3104, 3111, 3115, 3119, 3123, 3125, 3131, 3134, 3141, 3147, 3153, 3158, 3176, 3181, 3192, 3200, 3201, 3228, 3235, 3237, 3238, 3241, 3244, 3257, 3259, 3277, 3291, 3292, 3294, 3298, 3300, 3308, 3313, 3321, 3333, 3338, 3342, 3353, 3383, 3388, 3389, 3393, 3395, 3409, 3422, 3426, 3433, 3434, 3437, 3442, 3443, 3474, 3493, 3495, 3504, 3512, 3524, 3527, 3537, 3547, 3560, 3565, 3574, 3581, 3595, 3619, 3623, 3636, 3645, 3655, 3662, 3663, 3666, 3685, 3695, 3696, 3699, 3706, 3708, 3710, 3720, 3730, 3737, 3738, 3748, 3760, 3765, 3767, 3773, 3779, 3784, 3809, 3817, 3822, 3825, 3827, 3831, 3842, 3849, 3855, 3856, 3866, 3873, 3886, 3892, 3898, 3902, 3905, 3914, 3916, 3923, 3926, 3941, 3944, 3948, 3959, 3967, 3969, 3973, 3979, 3983, 3993, 4022, 4025, 4040, 4078, 4080, 4088, 4089, 4094, 4100, 4108, 4109, 4114, 4125, 4134, 4146, 4147, 4154, 4170, 4177, 4194, 4196, 4222, 4230, 4231, 4237, 4238, 4241, 4253, 4256, 4268, 4292, 4316, 4317, 4320, 4344, 4351, 4352, 4355, 4362, 4368, 4381, 4383, 4384, 4391, 4395, 4396, 4399, 4403, 4407, 4413, 4421, 4439, 4442, 4476, 4477, 4483, 4490, 4491, 4504, 4506, 4509, 4526, 4528, 4534, 4544, 4550, 4552, 4557, 4567, 4571, 4572, 4580, 4602, 4605, 4615, 4618, 4643, 4645, 4655, 4656, 4680, 4683, 4685, 4693, 4696, 4708, 4715, 4722, 4734, 4744, 4766, 4767, 4786, 4787, 4809, 4810, 4814, 4817, 4820, 4824, 4828, 4836, 4837, 4841, 4843, 4869, 4878, 4880, 4881, 4883, 4884, 4887, 4927, 4928, 4937, 4941, 4967, 4974, 4982, 4991, 4994, 4997, 5003, 5015, 5023, 5036, 5050, 5064, 5085, 5086, 5098, 5102, 5107, 5124, 5143, 5160, 5163, 5169, 5170, 5181, 5193, 5218, 5222, 5227, 5263, 5270, 5275, 5276, 5279, 5284, 5315, 5327, 5329, 5372, 5376, 5378, 5384, 5392, 5397, 5404, 5405, 5412, 5421, 5428, 5429, 5431, 5442, 5461, 5462, 5477, 5483, 5497, 5506, 5511, 5512, 5516, 5524, 5535, 5538, 5544, 5550, 5552, 5556, 5560, 5563, 5564, 5574, 5593, 5603, 5605, 5610, 5622, 5635, 5639, 5644, 5651, 5663, 5672, 5676, 5678, 5679, 5680, 5681, 5695, 5730, 5732, 5736, 5740, 5745, 5749, 5758, 5764, 5765, 5771, 5773, 5783, 5798, 5810, 5813, 5815, 5828, 5829, 5842, 5850, 5851, 5853, 5859, 5877, 5881, 5900, 5904, 5906, 5911, 5920, 5937, 5943, 5955, 5969, 5975, 5987, 5993, 5995, 6007, 6014, 6017, 6018, 6022, 6030, 6047, 6065, 6072, 6078, 6079, 6092, 6095, 6100, 6104, 6115, 6117, 6119, 6132, 6137, 6138, 6148, 6164, 6167, 6175, 6179, 6193, 6210, 6211, 6219, 6232, 6249, 6257, 6277, 6284, 6290, 6293, 6294, 6295, 6304, 6311, 6348, 6356, 6362, 6377, 6379, 6388, 6406, 6407, 6411, 6416, 6427, 6431, 6434, 6435, 6436, 6446, 6449, 6450, 6458, 6459, 6480, 6481, 6489, 6503, 6509, 6524, 6551, 6557, 6561, 6566, 6569, 6571, 6574, 6575, 6578, 6580, 6591, 6594, 6600, 6607, 6613, 6614, 6617, 6622, 6641, 6655, 6658, 6665, 6693, 6694, 6695, 6705, 6708, 6723, 6727, 6733, 6739, 6744, 6745, 6753, 6756, 6759, 6762, 6766, 6767, 6774, 6784, 6786, 6800, 6804, 6807, 6820, 6822, 6825, 6826, 6832, 6836, 6838, 6839, 6855, 6865, 6871, 6873, 6876, 6882, 6896, 6900, 6904, 6908, 6916, 6933, 6944, 6946, 6948, 6960, 6974, 6977, 6982, 7010, 7015, 7039, 7051, 7070, 7078, 7080, 7085, 7089, 7093, 7094, 7100, 7106, 7111, 7118, 7176, 7178, 7191, 7199, 7201, 7203, 7207, 7210, 7215, 7218, 7220, 7226, 7231, 7257, 7260, 7265, 7282, 7303, 7318, 7323, 7338, 7342, 7344, 7347, 7360, 7362, 7364, 7367, 7372, 7377, 7384, 7390, 7395, 7398, 7405, 7412, 7417, 7420, 7429, 7447, 7448, 7451, 7455, 7457, 7458, 7462, 7467, 7468, 7474, 7478, 7489, 7505, 7509, 7515, 7521, 7523, 7541, 7563, 7573, 7574, 7595, 7629, 7630, 7632, 7633, 7639, 7648, 7654, 7658, 7668, 7674, 7679, 7681, 7682, 7685, 7712, 7717]\n"
     ]
    }
   ],
   "source": []
  },
  {
   "cell_type": "code",
   "execution_count": 35,
   "metadata": {},
   "outputs": [
    {
     "data": {
      "text/plain": [
       "'C:\\\\Users\\\\Helen\\\\Documents\\\\python_crap\\\\RCT_corpus.tsv'"
      ]
     },
     "execution_count": 35,
     "metadata": {},
     "output_type": "execute_result"
    }
   ],
   "source": [
    "file_source = os.path.abspath('RCT_corpus.tsv')"
   ]
  },
  {
   "cell_type": "code",
   "execution_count": 37,
   "metadata": {},
   "outputs": [],
   "source": []
  },
  {
   "cell_type": "code",
   "execution_count": 39,
   "metadata": {},
   "outputs": [
    {
     "name": "stdout",
     "output_type": "stream",
     "text": [
      "RCT_corpus.tsv\n"
     ]
    }
   ],
   "source": [
    "print(r)"
   ]
  },
  {
   "cell_type": "code",
   "execution_count": null,
   "metadata": {},
   "outputs": [],
   "source": []
  }
 ],
 "metadata": {
  "kernelspec": {
   "display_name": "Python 3",
   "language": "python",
   "name": "python3"
  },
  "language_info": {
   "codemirror_mode": {
    "name": "ipython",
    "version": 3
   },
   "file_extension": ".py",
   "mimetype": "text/x-python",
   "name": "python",
   "nbconvert_exporter": "python",
   "pygments_lexer": "ipython3",
   "version": "3.7.6"
  }
 },
 "nbformat": 4,
 "nbformat_minor": 4
}
